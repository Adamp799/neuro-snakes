{
 "cells": [
  {
   "cell_type": "code",
   "execution_count": null,
   "metadata": {},
   "outputs": [],
   "source": [
    "%matplotlib widget\n",
    "import gym\n",
    "import sys\n",
    "sys.path.append(\"..\")\n",
    "import gym_snake\n",
    "\n",
    "print(\"q to quit, wasd to move\")\n",
    "env = gym.make('snake-v0')\n",
    "\n",
    "done = False\n",
    "reward = 0\n",
    "env.reset()\n",
    "key = \"\"\n",
    "action = 0\n",
    "while key != \"q\":\n",
    "    env.render()\n",
    "    key = input(\"action: \")\n",
    "    if key   == \"w\": action = 0\n",
    "    elif key == \"d\": action = 1\n",
    "    elif key == \"s\": action = 2\n",
    "    elif key == \"a\": action = 3\n",
    "    else: pass\n",
    "    obs, reward, done, info = env.step(action)\n",
    "    print(\"reward:\", reward)\n",
    "    print(\"done:\", done)\n",
    "    print(\"info --\")\n",
    "    for k in info.keys():\n",
    "        print(\"  \", k, \":\", info[k])\n",
    "    if done:\n",
    "        env.reset()\n",
    "env.render(close=True)"
   ]
  }
 ],
 "metadata": {
  "kernelspec": {
   "display_name": "Python 3",
   "language": "python",
   "name": "python3"
  },
  "language_info": {
   "codemirror_mode": {
    "name": "ipython",
    "version": 3
   },
   "file_extension": ".py",
   "mimetype": "text/x-python",
   "name": "python",
   "nbconvert_exporter": "python",
   "pygments_lexer": "ipython3",
   "version": "3.12.5"
  }
 },
 "nbformat": 4,
 "nbformat_minor": 2
}
