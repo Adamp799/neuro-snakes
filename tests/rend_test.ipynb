{
 "cells": [
  {
   "cell_type": "code",
   "execution_count": null,
   "metadata": {},
   "outputs": [],
   "source": [
    "import gym\n",
    "import gym_snake\n",
    "\n",
    "env = gym.make('snake-v0')\n",
    "obs = env.reset()\n",
    "done = False\n",
    "env.render()\n",
    "while not done:\n",
    "    act = env.action_space.sample()\n",
    "    obs, reward, done, info = env.step(act)\n",
    "    env.render()\n",
    "env.render(close=True)"
   ]
  }
 ],
 "metadata": {
  "kernelspec": {
   "display_name": "Python 3",
   "language": "python",
   "name": "python3"
  },
  "language_info": {
   "name": "python",
   "version": "3.12.1"
  }
 },
 "nbformat": 4,
 "nbformat_minor": 2
}
