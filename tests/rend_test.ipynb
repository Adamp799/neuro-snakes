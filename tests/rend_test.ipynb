{
 "cells": [
  {
   "cell_type": "code",
   "execution_count": null,
   "metadata": {},
   "outputs": [],
   "source": [
    "%matplotlib widget\n",
    "import gym\n",
    "import sys\n",
    "sys.path.append(\"..\")\n",
    "import gym_snake\n",
    "\n",
    "env = gym.make('snake-v0')\n",
    "env.reset()\n",
    "done = False\n",
    "score = 0\n",
    "while not done:\n",
    "    env.render()\n",
    "    print(f\"Score: {score}\")\n",
    "    act = env.action_space.sample()\n",
    "    obs, reward, done, info = env.step(act)\n",
    "    score += reward\n",
    "env.render(close=True)"
   ]
  }
 ],
 "metadata": {
  "kernelspec": {
   "display_name": "Python 3",
   "language": "python",
   "name": "python3"
  },
  "language_info": {
   "codemirror_mode": {
    "name": "ipython",
    "version": 3
   },
   "file_extension": ".py",
   "mimetype": "text/x-python",
   "name": "python",
   "nbconvert_exporter": "python",
   "pygments_lexer": "ipython3",
   "version": "3.12.5"
  }
 },
 "nbformat": 4,
 "nbformat_minor": 2
}
