{
 "cells": [
  {
   "cell_type": "code",
   "execution_count": 1,
   "metadata": {},
   "outputs": [],
   "source": [
    "import train as t\n",
    "import warnings\n",
    "warnings.filterwarnings(\"ignore\")\n",
    "env = t.create_env(grid_size=[12,12], unit_size=10, unit_gap=1, snake_size=3, n_snakes=1, n_foods=1, random_init=True)"
   ]
  },
  {
   "cell_type": "code",
   "execution_count": null,
   "metadata": {},
   "outputs": [],
   "source": [
    "t.run(env, 500, file=None)"
   ]
  },
  {
   "cell_type": "code",
   "execution_count": 2,
   "metadata": {},
   "outputs": [
    {
     "name": "stdout",
     "output_type": "stream",
     "text": [
      "Best instances:  [{'genome': <neat.genome.DefaultGenome object at 0x7f982815e5d0>, 'score': 33, 'net': <neat.nn.feed_forward.FeedForwardNetwork object at 0x7f982815f890>, 'fitness': 830.0, 'num_generation': 114}, {'genome': <neat.genome.DefaultGenome object at 0x7f98286eec90>, 'score': 26, 'net': <neat.nn.feed_forward.FeedForwardNetwork object at 0x7f98286ef950>, 'fitness': 459.6666666666667, 'num_generation': 136}, {'genome': <neat.genome.DefaultGenome object at 0x7f98285666c0>, 'score': 25, 'net': <neat.nn.feed_forward.FeedForwardNetwork object at 0x7f9828567350>, 'fitness': 389.0, 'num_generation': 151}, {'genome': <neat.genome.DefaultGenome object at 0x7f9828677fb0>, 'score': 19, 'net': <neat.nn.feed_forward.FeedForwardNetwork object at 0x7f9828689460>, 'fitness': 330.0, 'num_generation': 119}, {'genome': <neat.genome.DefaultGenome object at 0x7f9828567470>, 'score': 19, 'net': <neat.nn.feed_forward.FeedForwardNetwork object at 0x7f982857ca40>, 'fitness': 306.99999999999994, 'num_generation': 152}]\n"
     ]
    }
   ],
   "source": [
    "best_instances = t.load_object('trained_instances/agent1.1.pickle')\n",
    "best_instances = sorted(best_instances, key=lambda x: x['fitness'], reverse=True)\n",
    "print(\"Best instances: \", best_instances[:5])"
   ]
  },
  {
   "cell_type": "code",
   "execution_count": null,
   "metadata": {},
   "outputs": [
    {
     "name": "stdout",
     "output_type": "stream",
     "text": [
      "Manual interrupt\n",
      "Rewards: 15 | Snakes Remaining: 1\n"
     ]
    },
    {
     "data": {
      "text/plain": [
       "15"
      ]
     },
     "execution_count": 3,
     "metadata": {},
     "output_type": "execute_result"
    }
   ],
   "source": [
    "t.render_test(env, best_instances[0], frame_speed=0.05) # Adjust frame speed to slow down or speed up the rendering"
   ]
  },
  {
   "cell_type": "code",
   "execution_count": null,
   "metadata": {},
   "outputs": [],
   "source": [
    "average_score = 0\n",
    "for i in range(100):\n",
    "    score = t.render_test(env, best_instances[0], render=False)\n",
    "    print(\"Score: \", score)\n",
    "    average_score += score\n",
    "average_score /= 100\n",
    "print(\"Average score: \", average_score)"
   ]
  }
 ],
 "metadata": {
  "kernelspec": {
   "display_name": "Python 3",
   "language": "python",
   "name": "python3"
  },
  "language_info": {
   "codemirror_mode": {
    "name": "ipython",
    "version": 3
   },
   "file_extension": ".py",
   "mimetype": "text/x-python",
   "name": "python",
   "nbconvert_exporter": "python",
   "pygments_lexer": "ipython3",
   "version": "3.12.5"
  }
 },
 "nbformat": 4,
 "nbformat_minor": 2
}
